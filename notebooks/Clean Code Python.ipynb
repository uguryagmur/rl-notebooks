{
 "cells": [
  {
   "cell_type": "markdown",
   "id": "c2e5ff6e",
   "metadata": {},
   "source": [
    "# Clean Code Python\n",
    "Software engineering principles, from Robert C. Martin's book _Clean Code_, adapted for Python. This is not a style guide. It's a guide to producing readable, reusable, and refactorable software in Python.\n",
    "\n",
    "Not every principle herein has to be strictly followed, and even fewer will be universally agreed upon. These are guidelines and nothing more, but they are ones codified over many years of collective experience by the authors of Clean Code."
   ]
  },
  {
   "cell_type": "markdown",
   "id": "052d0d07",
   "metadata": {},
   "source": [
    "## Variables\n",
    "- Use meaningful and pronouncable variable names."
   ]
  },
  {
   "cell_type": "code",
   "execution_count": 1,
   "id": "48147a0b",
   "metadata": {},
   "outputs": [],
   "source": [
    "import datetime\n",
    "\n",
    "# Bad usage example:\n",
    "ymdstr = datetime.date.today().strftime(\"%y-%m-%d\")\n",
    "\n",
    "# Good usage example:\n",
    "current_date: str = datetime.date.today().strftime(\"%y-%m-%d\")"
   ]
  },
  {
   "cell_type": "markdown",
   "id": "52aee304",
   "metadata": {},
   "source": [
    "- Use the same vocabulary for the same type of variables"
   ]
  },
  {
   "cell_type": "code",
   "execution_count": 2,
   "id": "80d67fe2",
   "metadata": {},
   "outputs": [],
   "source": [
    "# Bad: Here we use three different names for the same underlying entity\n",
    "def get_user_info(): pass\n",
    "def get_client_data(): pass\n",
    "def get_customer_record(): pass\n",
    "\n",
    "# Good: If the entity is the same, you should be consistent in referring to it\n",
    "def get_user_info(): pass\n",
    "def get_user_data(): pass\n",
    "def get_user_record(): pass"
   ]
  },
  {
   "cell_type": "markdown",
   "id": "006bab32",
   "metadata": {},
   "source": [
    "Even better: Python is also an object programming language. If it make sense, package the functions together with the concrete implementation of the entity in your code, as instance attributes, property methods or methods:"
   ]
  },
  {
   "cell_type": "code",
   "execution_count": 3,
   "id": "5392e421",
   "metadata": {},
   "outputs": [],
   "source": [
    "from typing import Union, Dict, Text\n",
    "\n",
    "class Record:\n",
    "    pass\n",
    "\n",
    "class User:\n",
    "    info: str\n",
    "    \n",
    "    @property\n",
    "    def data(self) -> Dict[Text, Text]:\n",
    "        return {}\n",
    "    \n",
    "    def get_record(self) -> Union[Record, None]:\n",
    "        return Record()"
   ]
  },
  {
   "cell_type": "markdown",
   "id": "092c7268",
   "metadata": {},
   "source": [
    "- Use explanatory variables"
   ]
  },
  {
   "cell_type": "code",
   "execution_count": 4,
   "id": "c2714898",
   "metadata": {},
   "outputs": [
    {
     "name": "stdout",
     "output_type": "stream",
     "text": [
      "Cupertino: 95014\n",
      "Cupertino: 95014\n",
      "Cupertino, 95014\n"
     ]
    }
   ],
   "source": [
    "import re\n",
    "\n",
    "# Bad usage example:\n",
    "address = \"One Infinite Loop, Cupertino 95014\"\n",
    "city_zip_code_regex = r\"^[^,\\\\]+[,\\\\\\s]+(.+?)\\s*(\\d{5})?$\"\n",
    "\n",
    "matches = re.match(city_zip_code_regex, address)\n",
    "if matches:\n",
    "    print(f\"{matches[1]}: {matches[2]}\")\n",
    "\n",
    "# Not that bad usage example:\n",
    "address = \"One Infinite Loop, Cupertino 95014\"\n",
    "city_zip_code_regex = r\"^[^,\\\\]+[,\\\\\\s]+(.+?)\\s*(\\d{5})?$\"\n",
    "matches = re.match(city_zip_code_regex, address)\n",
    "\n",
    "if matches:\n",
    "    city, zip_code = matches.groups()\n",
    "    print(f\"{city}: {zip_code}\")\n",
    "\n",
    "# Good usage example by decrease dependence on regex by naming subpatterns\n",
    "address = \"One Infinite Loop, Cupertino 95014\"\n",
    "city_zip_code_regex = r\"^[^,\\\\]+[,\\\\\\s]+(?P<city>.+?)\\s*(?P<zip_code>\\d{5})?$\"\n",
    "\n",
    "matches = re.match(city_zip_code_regex, address)\n",
    "if matches:\n",
    "    print(f\"{matches['city']}, {matches['zip_code']}\")"
   ]
  },
  {
   "cell_type": "markdown",
   "id": "19574da2",
   "metadata": {},
   "source": [
    "- Avoid mental mapping: Don't force the reader of your code to translate what the variable means. Explicit is better than implicit."
   ]
  },
  {
   "cell_type": "code",
   "execution_count": 5,
   "id": "690d7aa9",
   "metadata": {},
   "outputs": [
    {
     "name": "stdout",
     "output_type": "stream",
     "text": [
      "Austin\n",
      "New York\n",
      "San Francisco\n",
      "Austin\n",
      "New York\n",
      "San Francisco\n"
     ]
    }
   ],
   "source": [
    "# Bad usage example\n",
    "seq = (\"Austin\", \"New York\", \"San Francisco\")\n",
    "\n",
    "for item in seq:\n",
    "    #do_stuff()\n",
    "    #do_some_other_stuff()\n",
    "\n",
    "    # Wait, what's `item` again?\n",
    "    print(item)\n",
    "\n",
    "# Good usage example\n",
    "locations = (\"Austin\", \"New York\", \"San Francisco\")\n",
    "\n",
    "for location in locations:\n",
    "    #do_stuff()\n",
    "    #do_some_other_stuff()\n",
    "    # ...\n",
    "    print(location)"
   ]
  },
  {
   "cell_type": "markdown",
   "id": "ede42238",
   "metadata": {},
   "source": [
    "- Don't add unneeded context: If your class/object name tells you something, don't repeat that in your attribute/variable names."
   ]
  },
  {
   "cell_type": "code",
   "execution_count": 6,
   "id": "5cc504cd",
   "metadata": {},
   "outputs": [],
   "source": [
    "# Bad usage example\n",
    "class Car:\n",
    "    car_make: str\n",
    "    car_model: str\n",
    "    car_color: str\n",
    "\n",
    "# Good usage example\n",
    "class Car:\n",
    "    make: str\n",
    "    model: str\n",
    "    color: str"
   ]
  }
 ],
 "metadata": {
  "kernelspec": {
   "display_name": "Python 3 (ipykernel)",
   "language": "python",
   "name": "python3"
  },
  "language_info": {
   "codemirror_mode": {
    "name": "ipython",
    "version": 3
   },
   "file_extension": ".py",
   "mimetype": "text/x-python",
   "name": "python",
   "nbconvert_exporter": "python",
   "pygments_lexer": "ipython3",
   "version": "3.9.7"
  }
 },
 "nbformat": 4,
 "nbformat_minor": 5
}
