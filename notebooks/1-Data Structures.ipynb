{
 "cells": [
  {
   "cell_type": "markdown",
   "id": "5f112271-d582-4b3d-aee2-ff979e28a602",
   "metadata": {},
   "source": [
    "# Data Structures\n",
    "\n",
    "Common data structures like `linear containers (like array and vector)`, `stack`, `queue`, `deuque (double ended queue)`, `set/map (balanced binary search tree)`, `unordered map/set (hash tables)`, `priority queue` are already implemented in STL library of C++. Hence, implementation of those data structures are ignored since they can be used directly from the standard library. The corresponding C++ reference websites of those data structures are given in the table below:\n",
    "\n",
    "| Data Structure              | STL Implementation |\n",
    "| :-------------------------: | :----------------: |\n",
    "| Fixed-size array            | [std::array](https://en.cppreference.com/w/cpp/container/array)   |\n",
    "| Dynamic array               | [std::vector](https://en.cppreference.com/w/cpp/container/vector) |\n",
    "| Stack                       | [std::stack](https://en.cppreference.com/w/cpp/container/stack)   |\n",
    "| Qeueu                       | [std::queue](https://en.cppreference.com/w/cpp/container/queue)   |\n",
    "| Deque                       | [std::deque](https://en.cppreference.com/w/cpp/container/deque)   |\n",
    "| Balanced Binary Search Tree | [std::set](https://en.cppreference.com/w/cpp/container/set), [std::multiset](https://en.cppreference.com/w/cpp/container/multiset), [std::map](https://en.cppreference.com/w/cpp/container/map), [std::multimap](https://en.cppreference.com/w/cpp/container/multimap) |\n",
    "| Hash Table                  | [std::unordered_set](https://en.cppreference.com/w/cpp/container/unordered_set), [std::unordered_multiset](https://en.cppreference.com/w/cpp/container/unordered_multiset) , [std::unordered_map](https://en.cppreference.com/w/cpp/container/unordered_map), [std::unordered_multimap](https://en.cppreference.com/w/cpp/container/unordered_multimap)  |\n",
    "| Priority Queue              | [std::priority_queue](https://en.cppreference.com/w/cpp/container/priority_queue) |\n",
    "\n",
    "* In addition to the data structures above, you can pack together the different type of objects in [`std::tuple`](https://en.cppreference.com/w/cpp/utility/tuple)."
   ]
  },
  {
   "cell_type": "markdown",
   "id": "ad3c12ee-4a26-4eb2-ac0f-2f36216e3dc4",
   "metadata": {},
   "source": [
    "## Fenwick (Binary Indexed) Tree\n",
    "\n",
    "For simplicity, we start with a generalization. Let's say $f$ is defined as $f(x, y)=x+y$ over integers.\n",
    "Suppose we are given an array of integers $A[0...N-1]$. (Note that we are using zero-based indexing.) A Fenwick tree is just an array, $T[0...N-1]$, where each element is equal to the sum of the elements of $A$ in some range $[g(i), i]$:\n",
    "\n",
    "$$ T_i = \\Sigma_{j=g(i)}^{i} A_j $$\n",
    "\n",
    "where $g$ is some function that satisfies $0\\le g(i) \\le i$.\n",
    "Here, notice that if we choose $g(x)=x$, as an identity function, then we will get exact same copy of the array $A$. However, we are looking for a more optimized way of doing range queries, for this case, summation.\n",
    "\n",
    "**Note:** _The Fenwick tree presented here uses zero-based indexing. Many people use a version of the Fenwick tree that uses one-based indexing. As such, you will also find an alternative implementation which uses one-based indexing in the implementation section. Both versions are equivalent in terms of time and memory complexity; however, for less confusion, I prefer the zero-based indexing approach._\n",
    "\n",
    "Now, we can write some pseudo code for two main operations: sum of the elements of $A$ in the range $[0,r]$ and dupdate some element $A_i$:\n",
    "\n",
    "```c\n",
    "int sum(int r):\n",
    "    res = 0;\n",
    "    while (r >= 0)\n",
    "    {\n",
    "        res += T[r];\n",
    "        r = g(r) - 1;\n",
    "    }\n",
    "    return res;\n",
    "\n",
    "void update(int i, int delta):\n",
    "    for all j for which g(j) <= i <= j\n",
    "        T[j] += delta\n",
    "```\n",
    "\n",
    "The function `sum` works as follows:\n",
    "\n",
    "1. First, it adds the sum of the range $[g(r), r]$ (i.e. $T[r]$) to the `result`.\n",
    "2. Then, it jumps to the range $[g(g(r) - 1), g(r) - 1]$ and adds this range's sum to the `result`.\n",
    "3. This continues until it jumps from $[0,g(g(...g(r)-1 ...-1)-1]$ to $[g(-1), -1]$; this is where it stops.\n",
    "\n",
    "The function `update` works with the same analogy, but it \"jumps\" in the direction of increasing indices.\n",
    "\n",
    "The complexity of both `sum` and `update` depends on how we choose the function $g(i)$.  The clever part of the algorithm for Fenwick trees is how it uses a special definition of the function  $g$  which can handle both operations in  $O(\\log N)$  time.\n",
    "\n",
    "---\n",
    "\n",
    "### Choosing the correct $g$ function\n",
    "\n",
    "The computation of  $g(i)$  is defined using the following simple operation: we replace all trailing  $1$  bits in the binary representation of  $i$  with  $0$  bits.\n",
    "\n",
    "In other words, if the least significant digit of  $i$  in binary is  $0$ , then  $g(i) = i$ . And otherwise the least significant digit is a  $1$ , and we take this  $1$  and all other trailing  $1$ s and flip them.\n",
    "\n",
    "For instance we get\n",
    "$$\\begin{align} g(11) = g(1011_2) = 1000_2 &= 8 \\\\\\\\ g(12) = g(1100_2) = 1100_2 &= 12 \\\\\\\\ g(13) = g(1101_2) = 1100_2 &= 12 \\\\\\\\ g(14) = g(1110_2) = 1110_2 &= 14 \\\\\\\\ g(15) = g(1111_2) = 0000_2 &= 0 \\\\\\\\ \\end{align}$$ \n",
    "There exists a simple implementation using bitwise operations for the non-trivial operation described above:\n",
    "$$g(i) = i ~\\&~ (i+1),$$ \n",
    "\n",
    "Now, we just need to find a way to iterate over all  $j$ 's, such that  $g(j) \\le i \\le j$ .\n",
    "\n",
    "It is easy to see that we can find all such  $j$ 's by starting with  $i$  and flipping the last unset bit. We will call this operation  $h(j)$ . For example, for  $i = 10$  we have:\n",
    "\n",
    "$$\\begin{align} 10 &= 0001010_2 \\\\\\\\ h(10) = 11 &= 0001011_2 \\\\\\\\ h(11) = 15 &= 0001111_2 \\\\\\\\ h(15) = 31 &= 0011111_2 \\\\\\\\ h(31) = 63 &= 0111111_2 \\\\\\\\ \\vdots & \\end{align}$$ \n",
    "Unsurprisingly, there also exists a simple way to perform  $h$  using bitwise operations:\n",
    "\n",
    "$$h(j) = j ~\\|~ (j+1),$$ \n",
    "where  $\\|$  is the bitwise OR operator.\n",
    "\n",
    "The following image shows a possible interpretation of the Fenwick tree as tree. The nodes of the tree show the ranges they cover.\n",
    "![Fenwick Update Tree](./images/BinaryIndexedTreeVisualization.png)"
   ]
  },
  {
   "cell_type": "code",
   "execution_count": 1,
   "id": "45e2c463-5fb1-49ac-b093-4bdea782b2d5",
   "metadata": {},
   "outputs": [],
   "source": [
    "#include <bits/stdc++.h>\n",
    "\n",
    "struct FenwickTree {\n",
    "    std::vector<int> BIT;\n",
    "\n",
    "    FenwickTree(int n): BIT(n, 0) {}\n",
    "    FenwickTree(const std::vector<int>& array): FenwickTree(array.size())\n",
    "    {\n",
    "        for (size_t i=0; i<array.size(); i++)\n",
    "            update(i, array[i]);\n",
    "    }\n",
    "\n",
    "    int sum(int index)\n",
    "    {\n",
    "        int result = 0;\n",
    "        while (index >= 0)\n",
    "        {\n",
    "            result += BIT[index];\n",
    "            index = (index & (index + 1)) - 1;\n",
    "        }\n",
    "        return result;\n",
    "    }\n",
    "\n",
    "    int sum(int l_index, int r_index)\n",
    "    {\n",
    "        return sum(l_index) - sum(r_index - 1);\n",
    "    }\n",
    "\n",
    "    void update(size_t index, int delta)\n",
    "    {\n",
    "        while (index < BIT.size())\n",
    "        {\n",
    "            BIT[index] += delta;\n",
    "            index = index | index + 1;\n",
    "        }\n",
    "    }\n",
    "};"
   ]
  },
  {
   "cell_type": "code",
   "execution_count": 2,
   "id": "aef82400-284c-4bdd-9b6f-1e8acf3d5749",
   "metadata": {},
   "outputs": [
    {
     "data": {
      "text/plain": [
       "{ 2, 3, 1, 7, 2, 5, 4, 21, 6, 13, 8, 30 }"
      ]
     },
     "execution_count": 2,
     "metadata": {},
     "output_type": "execute_result"
    }
   ],
   "source": [
    "std::vector<int> arr = {2, 1, 1, 3, 2, 3, 4, 5, 6, 7, 8, 9};\n",
    "FenwickTree tree(arr);\n",
    "tree.BIT"
   ]
  },
  {
   "cell_type": "code",
   "execution_count": 3,
   "id": "86900aa9-b783-400b-9c98-2e7c520ab81d",
   "metadata": {},
   "outputs": [
    {
     "data": {
      "text/plain": [
       "9"
      ]
     },
     "execution_count": 3,
     "metadata": {},
     "output_type": "execute_result"
    }
   ],
   "source": [
    "// sum range query starting from zero to given index\n",
    "tree.sum(4) // sum of first 5 elements = 9"
   ]
  },
  {
   "cell_type": "code",
   "execution_count": 4,
   "id": "72e08116-8d00-4ee2-b775-6d58773b2a58",
   "metadata": {},
   "outputs": [
    {
     "data": {
      "text/plain": [
       "26"
      ]
     },
     "execution_count": 4,
     "metadata": {},
     "output_type": "execute_result"
    }
   ],
   "source": [
    "// sum range query between two given index (inclusive)\n",
    "tree.sum(10, 7) // sum of the elements at index 7 8 9 10 = 26"
   ]
  },
  {
   "cell_type": "code",
   "execution_count": 5,
   "id": "e7913e74-56b9-43d8-ac82-a1dcd6fe1030",
   "metadata": {},
   "outputs": [
    {
     "data": {
      "text/plain": [
       "63"
      ]
     },
     "execution_count": 5,
     "metadata": {},
     "output_type": "execute_result"
    }
   ],
   "source": [
    "// sum range query after modifying one of the elements\n",
    "tree.update(7, 42 - arr[7] /* delta on the index */); // changing the element at index 7 with 42\n",
    "arr[7] = 42;\n",
    "tree.sum(10, 7) // after the element update the sum should be 63"
   ]
  },
  {
   "cell_type": "markdown",
   "id": "c73c15c3-b671-438d-b203-0fcc1df9f1b7",
   "metadata": {},
   "source": [
    "### Linear Construction of Fenwick Tree\n",
    "\n",
    "\n",
    "The above implementation requires  $O(N \\log N)$  time. It's possible to improve that to  $O(N)$  time.\n",
    "\n",
    "The idea is, that the number  $a[i]$  at index  $i$  will contribute to the range stored in  $bit[i]$ , and to all ranges that the index  $i | (i + 1)$  contributes to. So by adding the numbers in order, you only have to push the current sum further to the next range, where it will then get pushed further to the next range, and so on."
   ]
  },
  {
   "cell_type": "code",
   "execution_count": 6,
   "id": "dc221b8b-72d4-43aa-a559-dd9231b82371",
   "metadata": {},
   "outputs": [],
   "source": [
    "FenwickTree constructFenwickTreeLinearTime(const std::vector<int>& array)\n",
    "{\n",
    "    std::vector<int> BIT(array.size(), 0);\n",
    "    for (size_t i=0; i < array.size(); i++)\n",
    "    {\n",
    "        BIT[i] += array[i];\n",
    "        int parent = i | (i+1);\n",
    "        if (parent < array.size()) BIT[parent] += BIT[i];\n",
    "    }\n",
    "\n",
    "    FenwickTree tree(array.size());\n",
    "    tree.BIT = std::move(BIT);\n",
    "    return tree;\n",
    "}"
   ]
  },
  {
   "cell_type": "code",
   "execution_count": 7,
   "id": "7355fad4-981b-494e-978b-2a243f0309f5",
   "metadata": {},
   "outputs": [
    {
     "data": {
      "text/plain": [
       "{ 2, 3, 1, 7, 2, 5, 4, 58, 6, 13, 8, 30 }"
      ]
     },
     "execution_count": 7,
     "metadata": {},
     "output_type": "execute_result"
    }
   ],
   "source": [
    "FenwickTree linear_tree = constructFenwickTreeLinearTime(arr);\n",
    "assert(linear_tree.BIT == tree.BIT);\n",
    "linear_tree.BIT"
   ]
  },
  {
   "cell_type": "markdown",
   "id": "61e2d0b6-7ce0-48c6-b0ee-5c9b7feffa86",
   "metadata": {},
   "source": [
    "### Fenwick Tree with one-based indexing\n",
    "For this approach we change the requirements and definition for  $T[]$  and  $g()$  a little bit. We want  $T[i]$  to store the sum of  $[g(i)+1; i]$ . This changes the implementation a little bit, and allows for a similar nice definition for  $g(i)$.\n",
    "\n",
    "The computation of  $g(i)$  is defined as: toggling of the last set  $1$  bit in the binary representation of  $i$ .\n",
    "\n",
    "$$\\begin{align} g(7) = g(111_2) = 110_2 &= 6 \\\\\\\\ g(6) = g(110_2) = 100_2 &= 4 \\\\\\\\ g(4) = g(100_2) = 000_2 &= 0 \\\\\\\\ \\end{align}$$ \n",
    "The last set bit can be extracted using  $i ~\\&~ (-i)$ , so the operation can be expressed as:\n",
    "\n",
    " $$g(i) = i - (i ~\\&~ (-i)).$$ \n",
    "And it's not hard to see, that you need to change all values  $T[j]$  in the sequence  $i,~ h(i),~ h(h(i)),~ \\dots$  when you want to update  $A[j]$ , where  $h(i)$  is defined as:\n",
    "\n",
    " $$h(i) = i + (i ~\\&~ (-i)).$$ \n",
    "\n",
    "As you can see, the main benefit of this approach is that the binary operations complement each other very nicely.\n",
    "Implementation of this approach is left for the reader.\n",
    "\n",
    "---\n",
    "\n",
    "### Three Trees hidden in Fenwick Array\n",
    "\n",
    "A _\"Fenwick tree\"_ is actually three implicit trees over the same array: the interrogation tree used for translating indexes to prefix sums, the update tree used for updating elements, and the search tree for translating prefix sums to indexes (rank queries). The first two are normally walked upwards, while the third is usually walked downwards.\n",
    "\n",
    "__Interrogation Tree:__ The interrogation tree is defined so that the parent of node $i$ is $ i - lsb(i) $ where $lsb(i)$ is defined above. Implicit node 0 is the root. Node $i$ has $log_2(lsb(i))$ children $(i+1, i+2, i+4, ..., i+lsb(i)/2)$, and $lsb(i)$ total descendants.\n",
    "\n",
    "![One-based Fenwick Interrogation Tree](./images/FenwickInterrogationTree.png)\n",
    "\n",
    "__Update Tree:__ The update tree is the mirror image of the interrogation tree. The parent of node $i$ is $i + lsb(i) = (i|i-1)+1$ where $|$ denotes bitwise or operation. This conceptual tree is infinite, but only the part with indexes up to \n",
    "$n$ is stored or used. Excluding the fictitious nodes with indexes greater than $n$ it will be a forest of disjoint trees, one for each bit set in the binary representation of $n$. To modify one of the values $A[i]$ add the change to $F[i]$, then $i$'s parent, then its grandparent, and so on, until the index exceeds $n$.\n",
    "\n",
    "_The visualization of the Update Tree is given in the image in second cell._\n",
    "\n",
    "__Search Tree:__ Unlike the other two trees, the search tree is a binary tree, arranged in an order sideways heap. Each node is assigned a height equal to the number of trailing zeros in the binary representation of its index, with the parent and children being the numerically closest index(es) of the adjacent height. Nodes with odd indexes $(lsb(i) = 1)$ are leaves. Nodes with even indexes have the closest two nodes of the next-lowest index as children, $ i \\pm lsb(i)/2 $. Node $i$'s parent in the same search tree is\n",
    "\n",
    "$$(i - lsb(i))|(2lsb(i))$$\n",
    "\n",
    "Although this tree is potentially infinite, we may define its root to be the highest existing node. The search tree may be considered a combination of the previous two trees. A node's left subtree contains all of its descendants in the update tree, while its right subtree contains all of its descendants in the interrogation tree. A node's parent in the search tree is either its interrogation or update parent (depending on whether the node is a right or left child, respectively), and the other type of parent may be found by multiple upward steps in the search tree.\n",
    "\n",
    "However, upward traversals in the search tree are uncommon; its primary use is to perform rank queries: given a prefix sum, at what index does it appear? This is done by a downward traversal through the search tree. During the traversal, three variables are maintained: The current node's index, the rank being sought in the subtree rooted at the current node, and a \"fallback index\" to be returned if the rank sought is greater than can be found in the subtree. Each step, either the current node is a fictitious node (index greater than $n$), or we must decide if the position sought is to the left or right of the end of the current node. If the rank sought is less than the Fenwick array value $F[i]$ for the current node, we must search its left subtree. If it is greater, search its right subtree. If it is equal, the direction chosen depends on how you wish to handle searches for sums lying exactly between two nodes.\n",
    "\n",
    "---\n",
    "\n",
    "### Finding Sum in two-dimensional array\n",
    "\n",
    "Fenwick Tree can be implemented for 2D arrays with an easy way. The implementation is given below."
   ]
  },
  {
   "cell_type": "code",
   "execution_count": 8,
   "id": "636e5a01-def5-4e84-82e7-a75efa932811",
   "metadata": {},
   "outputs": [],
   "source": [
    "struct FenwickTree2D {\n",
    "    std::vector<std::vector<int>> BIT;\n",
    "\n",
    "    FenwickTree2D(size_t size_x, size_t size_y): BIT(size_x, std::vector<int>(size_y, 0)) {}\n",
    "    FenwickTree2D(const std::vector<std::vector<int>>& array): FenwickTree2D(array.size(), array[0].size())\n",
    "    {\n",
    "        for (size_t i = 0; i < array.size(); i++)\n",
    "            for (size_t j = 0; j < array[0].size(); j++)\n",
    "                update(i, j, array[i][j]);\n",
    "                \n",
    "    }\n",
    "\n",
    "    int sum(size_t x, size_t y) {\n",
    "        int result = 0;\n",
    "        for (int i = x; i >= 0; i = (i & (i + 1)) - 1)\n",
    "            for (int j = y; j >= 0; j = (j & (j + 1)) - 1)\n",
    "                result += BIT[i][j];\n",
    "        return result;\n",
    "    }\n",
    "\n",
    "    void update(size_t x, size_t y, int delta) {\n",
    "        for (int i = x; i < BIT.size(); i = i | (i + 1))\n",
    "            for (int j = y; j < BIT[0].size(); j = j | (j + 1))\n",
    "                BIT[i][j] += delta;\n",
    "    }\n",
    "};"
   ]
  },
  {
   "cell_type": "code",
   "execution_count": 9,
   "id": "7763b43d-3592-418b-8b61-f907603252df",
   "metadata": {},
   "outputs": [
    {
     "data": {
      "text/plain": [
       "{ { 1, 3, 3, 10, 5, 11 }, { 13, 26, 13, 52, 13, 26 } }"
      ]
     },
     "execution_count": 9,
     "metadata": {},
     "output_type": "execute_result"
    }
   ],
   "source": [
    "std::vector<std::vector<int>> array2d = { {1, 2, 3, 4, 5, 6}, { 12, 11, 10, 9, 8, 7 }};\n",
    "FenwickTree2D tree2d(array2d);\n",
    "tree2d.BIT"
   ]
  },
  {
   "cell_type": "code",
   "execution_count": 10,
   "id": "17268a1c-b141-46d4-9073-17e22a8aa2b2",
   "metadata": {},
   "outputs": [
    {
     "data": {
      "text/plain": [
       "26"
      ]
     },
     "execution_count": 10,
     "metadata": {},
     "output_type": "execute_result"
    }
   ],
   "source": [
    "tree2d.sum(1, 1) // sum of { {1, 2}, {12, 11}} = 26"
   ]
  },
  {
   "cell_type": "code",
   "execution_count": 11,
   "id": "0c0a6e7a-9dd6-43a3-9d4f-5174e2b752c2",
   "metadata": {},
   "outputs": [
    {
     "data": {
      "text/plain": [
       "40"
      ]
     },
     "execution_count": 11,
     "metadata": {},
     "output_type": "execute_result"
    }
   ],
   "source": [
    "tree2d.update(0, 0, 14); // making index [0, 0] := 15\n",
    "tree2d.sum(1, 1) // sum of { {15, 2}, {12, 11}} = 40"
   ]
  },
  {
   "cell_type": "markdown",
   "id": "a76d2d44-78c7-4e7b-a43c-bba8c602b53f",
   "metadata": {},
   "source": [
    "#### Sources\n",
    "---\n",
    "\n",
    "- [cp-algorithms](https://cp-algorithms.com/data_structures/fenwick.html)\n",
    "- [wikipedia](https://en.wikipedia.org/wiki/Fenwick_tree)"
   ]
  }
 ],
 "metadata": {
  "kernelspec": {
   "display_name": "C++17",
   "language": "C++17",
   "name": "xcpp17"
  },
  "language_info": {
   "codemirror_mode": "text/x-c++src",
   "file_extension": ".cpp",
   "mimetype": "text/x-c++src",
   "name": "c++",
   "version": "17"
  }
 },
 "nbformat": 4,
 "nbformat_minor": 5
}
