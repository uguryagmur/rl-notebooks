{
 "cells": [
  {
   "cell_type": "markdown",
   "id": "5f112271-d582-4b3d-aee2-ff979e28a602",
   "metadata": {},
   "source": [
    "### Data Structures\n",
    "\n",
    "Common data structures like `linear containers (like array and vector)`, `stack`, `queue`, `deuque (double ended queue)`, `set/map (balanced binary search tree)`, `unordered map/set (hash tables)`, `priority queue` are already implemented in STL library of C++. Hence, implementation of those data structures are ignored since they can be used directly from the standard library. The corresponding C++ reference websites of those data structures are given in the table below:\n",
    "\n",
    "| Data Structure              | STL Implementation |\n",
    "| :-------------------------: | :----------------: |\n",
    "| Fixed-size array            | [std::array](https://en.cppreference.com/w/cpp/container/array)   |\n",
    "| Dynamic array               | [std::vector](https://en.cppreference.com/w/cpp/container/vector) |\n",
    "| Stack                       | [std::stack](https://en.cppreference.com/w/cpp/container/stack)   |\n",
    "| Qeueu                       | [std::queue](https://en.cppreference.com/w/cpp/container/queue)   |\n",
    "| Deque                       | [std::deque](https://en.cppreference.com/w/cpp/container/deque)   |\n",
    "| Balanced Binary Search Tree | [std::set](https://en.cppreference.com/w/cpp/container/set), [std::multiset](https://en.cppreference.com/w/cpp/container/multiset), [std::map](https://en.cppreference.com/w/cpp/container/map), [std::multimap](https://en.cppreference.com/w/cpp/container/multimap) |\n",
    "| Hash Table                  | [std::unordered_set](https://en.cppreference.com/w/cpp/container/unordered_set), [std::unordered_multiset](https://en.cppreference.com/w/cpp/container/unordered_multiset) , [std::unordered_map](https://en.cppreference.com/w/cpp/container/unordered_map), [std::unordered_multimap](https://en.cppreference.com/w/cpp/container/unordered_multimap)  |\n",
    "| Priority Queue              | [std::priority_queue](https://en.cppreference.com/w/cpp/container/priority_queue) |\n",
    "\n",
    "* In addition to the data structures above, you can pack together the different type of objects in [`std::tuple`](https://en.cppreference.com/w/cpp/utility/tuple)."
   ]
  },
  {
   "cell_type": "code",
   "execution_count": 4,
   "id": "9e9f0e07-0169-4e40-b13a-34bdfa5aa768",
   "metadata": {},
   "outputs": [
    {
     "name": "stdout",
     "output_type": "stream",
     "text": [
      "NICE IT WORKS\n"
     ]
    }
   ],
   "source": [
    "#include <bits/stdc++.h>\n",
    "\n",
    "std::cout << \"TEST\" << \"\\n\";"
   ]
  }
 ],
 "metadata": {
  "kernelspec": {
   "display_name": "C++17",
   "language": "C++17",
   "name": "xcpp17"
  },
  "language_info": {
   "codemirror_mode": "text/x-c++src",
   "file_extension": ".cpp",
   "mimetype": "text/x-c++src",
   "name": "c++",
   "version": "17"
  }
 },
 "nbformat": 4,
 "nbformat_minor": 5
}
